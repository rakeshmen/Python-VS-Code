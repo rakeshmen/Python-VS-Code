{
 "cells": [
  {
   "cell_type": "markdown",
   "id": "edfc3a5a",
   "metadata": {},
   "source": [
    "# NumPy Basics\n",
    "\n",
    "python list:<br>\n",
    "my_list = [12,13,14,15]\n",
    "\n",
    "NumPy Arrays:<br>\n",
    "import numpy as np<br>\n",
    "my_array = np.array([12,13,14,15])\n",
    "\n",
    "Both are ordered, mutable and contains duplicate. And supports indexing, slicing, iterating.\n",
    "\n",
    "Difference:<br>\n",
    "Lists are built in data structures of python whereas arrays must be imported from NumPy package or from array module.<br>\n",
    "Lists can hold data of different data type whereas array can hold data of same data type only.<br>\n",
    "Lists are flexible whereas once we difined dimension of array, we can not change it.<br>\n",
    "Lists consume more memory whereas arrays consume less memory.<br>\n",
    "Lists consume six times memory than of array.<br>\n",
    "Lists saves object type, refereance count, object value, size whereas array saves only elements.<br>"
   ]
  },
  {
   "cell_type": "code",
   "execution_count": 70,
   "id": "d725b5cb",
   "metadata": {},
   "outputs": [
    {
     "name": "stdout",
     "output_type": "stream",
     "text": [
      "The product is 24\n"
     ]
    }
   ],
   "source": [
    "# need to run a loop to multiply all elements of list.\n",
    "\n",
    "number_list = [1, 2, 3, 4]\n",
    "\n",
    "product = 1 \n",
    "# Don't use 0 here, otherwise, you'll get zero.\n",
    "for i in number_list:\n",
    "    product = i * product\n",
    "print('The product is',product)"
   ]
  },
  {
   "cell_type": "code",
   "execution_count": null,
   "id": "34402740",
   "metadata": {},
   "outputs": [],
   "source": [
    "import numpy as np"
   ]
  },
  {
   "cell_type": "code",
   "execution_count": 72,
   "id": "c1c1a63f",
   "metadata": {},
   "outputs": [
    {
     "name": "stdout",
     "output_type": "stream",
     "text": [
      "The product is 24\n"
     ]
    }
   ],
   "source": [
    "# Here no loop required.\n",
    "my_array = np.array([1,2,3,4])\n",
    "product = my_array[0] * my_array[1] * my_array[2] * my_array[3]\n",
    "print('The product is',product)"
   ]
  },
  {
   "cell_type": "code",
   "execution_count": 73,
   "id": "b3261aa0",
   "metadata": {},
   "outputs": [],
   "source": [
    "my_list21 = [111,222,333]\n",
    "my_array21 = np.array([111,222,333])"
   ]
  },
  {
   "cell_type": "code",
   "execution_count": 78,
   "id": "5e788839",
   "metadata": {},
   "outputs": [],
   "source": [
    "import sys"
   ]
  },
  {
   "cell_type": "code",
   "execution_count": 79,
   "id": "64277821",
   "metadata": {},
   "outputs": [
    {
     "data": {
      "text/plain": [
       "264"
      ]
     },
     "execution_count": 79,
     "metadata": {},
     "output_type": "execute_result"
    }
   ],
   "source": [
    "# Get size of my_list21\n",
    "sys.getsizeof(my_list21) * len(my_list21)"
   ]
  },
  {
   "cell_type": "code",
   "execution_count": 81,
   "id": "3e6a3e87",
   "metadata": {},
   "outputs": [
    {
     "data": {
      "text/plain": [
       "24"
      ]
     },
     "execution_count": 81,
     "metadata": {},
     "output_type": "execute_result"
    }
   ],
   "source": [
    "# Get size of my_array21\n",
    "my_array21.itemsize * my_array21.size"
   ]
  },
  {
   "cell_type": "markdown",
   "id": "d95194c7",
   "metadata": {},
   "source": [
    "It indicates the difference in memory consumption."
   ]
  },
  {
   "cell_type": "code",
   "execution_count": null,
   "id": "59b13b72",
   "metadata": {},
   "outputs": [],
   "source": [
    "import pandas as pd"
   ]
  },
  {
   "cell_type": "code",
   "execution_count": 1,
   "id": "07e5540f",
   "metadata": {},
   "outputs": [
    {
     "name": "stdout",
     "output_type": "stream",
     "text": [
      "Hello World\n"
     ]
    }
   ],
   "source": [
    "print ('Hello World')"
   ]
  },
  {
   "cell_type": "code",
   "execution_count": 4,
   "id": "0f74db28",
   "metadata": {},
   "outputs": [
    {
     "name": "stdout",
     "output_type": "stream",
     "text": [
      "[ 1  2  3  4  5  6  7  8  9 10]\n",
      "[ 200  500 1000]\n"
     ]
    }
   ],
   "source": [
    "myarray1 = np.array([1,2,3,4,5,6,7,8,9,10],np.int8)\n",
    "print(myarray1)\n",
    "myarray2 = np.array([200,500,1000],np.int32)\n",
    "print(myarray2)"
   ]
  },
  {
   "cell_type": "code",
   "execution_count": null,
   "id": "d64beea5",
   "metadata": {},
   "outputs": [],
   "source": [
    "myarray3 = np.array([10,20,11,21,23],np.int16)\n",
    "myarray4 = np.array([123,223,214,233],np.int32)"
   ]
  },
  {
   "cell_type": "code",
   "execution_count": null,
   "id": "03a0c4bb",
   "metadata": {},
   "outputs": [],
   "source": [
    "print(myarray3)"
   ]
  },
  {
   "cell_type": "code",
   "execution_count": null,
   "id": "90778d3f",
   "metadata": {},
   "outputs": [],
   "source": [
    "myarray5 = np.array([900,2322,323],np.int32)\n",
    "myarray6 = np.array([900,343,456],np.int32)"
   ]
  },
  {
   "cell_type": "code",
   "execution_count": null,
   "id": "61993ca2",
   "metadata": {},
   "outputs": [],
   "source": [
    "myarray7 = np.array([[123,454,554]],np.int16)"
   ]
  },
  {
   "cell_type": "code",
   "execution_count": null,
   "id": "b19c7684",
   "metadata": {},
   "outputs": [],
   "source": [
    "print(myarray7)"
   ]
  },
  {
   "cell_type": "code",
   "execution_count": null,
   "id": "e924945b",
   "metadata": {},
   "outputs": [],
   "source": [
    "print(myarray7[0,2])"
   ]
  },
  {
   "cell_type": "code",
   "execution_count": null,
   "id": "982063ad",
   "metadata": {},
   "outputs": [],
   "source": [
    "print(myarray7[0,0])"
   ]
  },
  {
   "cell_type": "code",
   "execution_count": null,
   "id": "cdaa52b2",
   "metadata": {},
   "outputs": [],
   "source": [
    "myarray8 = np.array([[121,232],[432,455]],np.int16)"
   ]
  },
  {
   "cell_type": "code",
   "execution_count": null,
   "id": "f15d9a14",
   "metadata": {},
   "outputs": [],
   "source": [
    "print(myarray8)"
   ]
  },
  {
   "cell_type": "code",
   "execution_count": null,
   "id": "9ded563a",
   "metadata": {},
   "outputs": [],
   "source": [
    "myarray8"
   ]
  },
  {
   "cell_type": "code",
   "execution_count": null,
   "id": "fe4e59f0",
   "metadata": {},
   "outputs": [],
   "source": [
    "print(type(myarray8))"
   ]
  },
  {
   "cell_type": "code",
   "execution_count": null,
   "id": "770c66fa",
   "metadata": {},
   "outputs": [],
   "source": [
    "myarray2[2]"
   ]
  },
  {
   "cell_type": "code",
   "execution_count": null,
   "id": "a912c207",
   "metadata": {},
   "outputs": [],
   "source": [
    "print(myarray2)"
   ]
  },
  {
   "cell_type": "code",
   "execution_count": null,
   "id": "e5913195",
   "metadata": {},
   "outputs": [],
   "source": [
    "myarray3 = np.array([[111,222,333,555]],np.int16)\n",
    "print(myarray3)"
   ]
  },
  {
   "cell_type": "code",
   "execution_count": null,
   "id": "5deeee7a",
   "metadata": {},
   "outputs": [],
   "source": [
    "myarray3[0,1]"
   ]
  },
  {
   "cell_type": "code",
   "execution_count": null,
   "id": "358bdeab",
   "metadata": {},
   "outputs": [],
   "source": [
    "myarray4 = np.array([[900,777,433,455]],np.int32)\n",
    "myarray4\n",
    "myarray4[0,2]"
   ]
  },
  {
   "cell_type": "code",
   "execution_count": null,
   "id": "55744c5e",
   "metadata": {},
   "outputs": [],
   "source": [
    "myarray5 = np.array([[222,121,2332,121]],np.int32)\n",
    "myarray5[0,2]"
   ]
  },
  {
   "cell_type": "code",
   "execution_count": null,
   "id": "69fe557f",
   "metadata": {},
   "outputs": [],
   "source": [
    "myarray8.dtype"
   ]
  },
  {
   "cell_type": "code",
   "execution_count": null,
   "id": "f48e7e48",
   "metadata": {},
   "outputs": [],
   "source": [
    "print(type(myarray8))"
   ]
  },
  {
   "cell_type": "code",
   "execution_count": null,
   "id": "e3a426ab",
   "metadata": {},
   "outputs": [],
   "source": [
    "print('Hello')"
   ]
  },
  {
   "cell_type": "code",
   "execution_count": null,
   "id": "e260d4c6",
   "metadata": {},
   "outputs": [],
   "source": [
    "myarray8.dtype"
   ]
  },
  {
   "cell_type": "code",
   "execution_count": null,
   "id": "618cf95a",
   "metadata": {},
   "outputs": [],
   "source": [
    "myarray8.shape"
   ]
  },
  {
   "cell_type": "code",
   "execution_count": null,
   "id": "510c7107",
   "metadata": {},
   "outputs": [],
   "source": [
    "myarray8.size"
   ]
  },
  {
   "cell_type": "code",
   "execution_count": null,
   "id": "484c7f2b",
   "metadata": {},
   "outputs": [],
   "source": [
    "floatarray1 = np.array([1.2,1.3,1.44],np.float16)"
   ]
  },
  {
   "cell_type": "code",
   "execution_count": null,
   "id": "4f2ff536",
   "metadata": {},
   "outputs": [],
   "source": [
    "floatarray1"
   ]
  },
  {
   "cell_type": "code",
   "execution_count": null,
   "id": "44cdefc1",
   "metadata": {},
   "outputs": [],
   "source": [
    "floatarray1.dtype"
   ]
  },
  {
   "cell_type": "code",
   "execution_count": null,
   "id": "438acd8d",
   "metadata": {},
   "outputs": [],
   "source": [
    "floatarray1.shape"
   ]
  },
  {
   "cell_type": "code",
   "execution_count": null,
   "id": "f982e46f",
   "metadata": {},
   "outputs": [],
   "source": [
    "floatarray1.size"
   ]
  },
  {
   "cell_type": "markdown",
   "id": "75131381",
   "metadata": {},
   "source": [
    "##### Get info about created array"
   ]
  },
  {
   "cell_type": "code",
   "execution_count": null,
   "id": "047194a3",
   "metadata": {},
   "outputs": [],
   "source": [
    "myarray1.shape"
   ]
  },
  {
   "cell_type": "code",
   "execution_count": null,
   "id": "1014e982",
   "metadata": {},
   "outputs": [],
   "source": [
    "myarray3.shape"
   ]
  },
  {
   "cell_type": "code",
   "execution_count": null,
   "id": "130d5275",
   "metadata": {},
   "outputs": [],
   "source": [
    "myarray2.shape"
   ]
  },
  {
   "cell_type": "code",
   "execution_count": null,
   "id": "2d367f87",
   "metadata": {},
   "outputs": [],
   "source": [
    "myarray5.shape"
   ]
  },
  {
   "cell_type": "code",
   "execution_count": null,
   "id": "50902b0c",
   "metadata": {},
   "outputs": [],
   "source": [
    "myarray5.dtype"
   ]
  },
  {
   "cell_type": "code",
   "execution_count": null,
   "id": "5cedb671",
   "metadata": {},
   "outputs": [],
   "source": [
    "myarray2.dtype"
   ]
  },
  {
   "cell_type": "code",
   "execution_count": null,
   "id": "3d77fa08",
   "metadata": {},
   "outputs": [],
   "source": [
    "myarray1.dtype"
   ]
  },
  {
   "cell_type": "code",
   "execution_count": null,
   "id": "5bea1be8",
   "metadata": {},
   "outputs": [],
   "source": [
    "myarray6 = np.array([[1.2,1.44,4.55]],np.float32)\n",
    "myarray6\n",
    "print(myarray6)\n",
    "myarray6.shape\n",
    "myarray6.dtype"
   ]
  },
  {
   "cell_type": "code",
   "execution_count": null,
   "id": "c7caefb5",
   "metadata": {},
   "outputs": [],
   "source": [
    "listarray1 = np.array([[1,2,3],[5,6,7],[8,9,10]])\n",
    "print(listarray1)"
   ]
  },
  {
   "cell_type": "code",
   "execution_count": null,
   "id": "a56f8c60",
   "metadata": {},
   "outputs": [],
   "source": [
    "listarray2 = np.array([[33,44,55],[77,88,99]])\n",
    "print(listarray2)"
   ]
  },
  {
   "cell_type": "code",
   "execution_count": null,
   "id": "6ab843a8",
   "metadata": {},
   "outputs": [],
   "source": [
    "listarray1.dtype"
   ]
  },
  {
   "cell_type": "code",
   "execution_count": null,
   "id": "7eee0820",
   "metadata": {},
   "outputs": [],
   "source": [
    "print(listarray1)\n",
    "listarray1.shape"
   ]
  },
  {
   "cell_type": "code",
   "execution_count": null,
   "id": "a6f8268b",
   "metadata": {},
   "outputs": [],
   "source": [
    "listarray3 = np.array([[100,200,300],[700,800,900]])\n",
    "print(listarray3)"
   ]
  },
  {
   "cell_type": "code",
   "execution_count": null,
   "id": "d40c2971",
   "metadata": {},
   "outputs": [],
   "source": [
    "listarray3.shape"
   ]
  },
  {
   "cell_type": "code",
   "execution_count": null,
   "id": "99f99740",
   "metadata": {},
   "outputs": [],
   "source": [
    "listarray3.dtype"
   ]
  },
  {
   "cell_type": "code",
   "execution_count": null,
   "id": "0363d718",
   "metadata": {},
   "outputs": [],
   "source": [
    "listarray3.size"
   ]
  },
  {
   "cell_type": "code",
   "execution_count": null,
   "id": "71c11f54",
   "metadata": {},
   "outputs": [],
   "source": [
    "listarray1"
   ]
  },
  {
   "cell_type": "markdown",
   "id": "8ca7341d",
   "metadata": {},
   "source": [
    "##### Change element in array"
   ]
  },
  {
   "cell_type": "code",
   "execution_count": null,
   "id": "8cdd498c",
   "metadata": {},
   "outputs": [],
   "source": [
    "listarray1[0,0] =100"
   ]
  },
  {
   "cell_type": "code",
   "execution_count": null,
   "id": "13040458",
   "metadata": {},
   "outputs": [],
   "source": [
    "print(listarray1)"
   ]
  },
  {
   "cell_type": "markdown",
   "id": "94f3a064",
   "metadata": {},
   "source": [
    "##### Creation of array from list"
   ]
  },
  {
   "cell_type": "code",
   "execution_count": null,
   "id": "a4e5b116",
   "metadata": {},
   "outputs": [],
   "source": [
    "listarray4 = np.array([[232,332,322],[322,433,323]])\n",
    "print(listarray4)"
   ]
  },
  {
   "cell_type": "code",
   "execution_count": null,
   "id": "5454cb6f",
   "metadata": {},
   "outputs": [],
   "source": [
    "listarray4"
   ]
  },
  {
   "cell_type": "markdown",
   "id": "a943c200",
   "metadata": {},
   "source": [
    "# Working with NumPy array"
   ]
  },
  {
   "cell_type": "code",
   "execution_count": 82,
   "id": "13de1415",
   "metadata": {},
   "outputs": [
    {
     "name": "stdout",
     "output_type": "stream",
     "text": [
      "[ 11  22  33  44  55 999]\n"
     ]
    }
   ],
   "source": [
    "# create integer array\n",
    "\n",
    "int_array = np.array([11,22,33,44,55,999])\n",
    "\n",
    "# print\n",
    "\n",
    "print(int_array)"
   ]
  },
  {
   "cell_type": "code",
   "execution_count": 83,
   "id": "a20291dc",
   "metadata": {},
   "outputs": [
    {
     "name": "stdout",
     "output_type": "stream",
     "text": [
      "11\n"
     ]
    }
   ],
   "source": [
    "# As indexing of elements starts from 0\n",
    "# Let us check 0th element.\n",
    "\n",
    "print(int_array[0])"
   ]
  },
  {
   "cell_type": "code",
   "execution_count": 85,
   "id": "b4c507d2",
   "metadata": {},
   "outputs": [
    {
     "name": "stdout",
     "output_type": "stream",
     "text": [
      "[5555   22   33   44   55  999]\n"
     ]
    }
   ],
   "source": [
    "# As array is mutable means objects whose values can be changed after they are created.\n",
    "# Let us chanhe 0th element to 5555.\n",
    "\n",
    "int_array[0] = 5555\n",
    "\n",
    "# print\n",
    "\n",
    "print(int_array)"
   ]
  },
  {
   "cell_type": "code",
   "execution_count": 86,
   "id": "48781cc2",
   "metadata": {},
   "outputs": [
    {
     "data": {
      "text/plain": [
       "dtype('int64')"
      ]
     },
     "execution_count": 86,
     "metadata": {},
     "output_type": "execute_result"
    }
   ],
   "source": [
    "# Check data type of int_array\n",
    "\n",
    "int_array.dtype"
   ]
  },
  {
   "cell_type": "markdown",
   "id": "8d35543e",
   "metadata": {},
   "source": [
    "here int is data type and 64 is number of bytes that represent each element."
   ]
  },
  {
   "cell_type": "code",
   "execution_count": 93,
   "id": "96a36262",
   "metadata": {},
   "outputs": [],
   "source": [
    "# Change dtype to 32\n",
    "\n",
    "from numpy import int32\n",
    "\n",
    "\n",
    "int_array_smaller = np.array(int_array, dtype=int32)"
   ]
  },
  {
   "cell_type": "code",
   "execution_count": 94,
   "id": "a8b37b16",
   "metadata": {},
   "outputs": [
    {
     "data": {
      "text/plain": [
       "dtype('int32')"
      ]
     },
     "execution_count": 94,
     "metadata": {},
     "output_type": "execute_result"
    }
   ],
   "source": [
    "int_array_smaller.dtype"
   ]
  },
  {
   "cell_type": "markdown",
   "id": "5ac446bb",
   "metadata": {},
   "source": [
    "Get clear understanding of dtype for int, float, unsigned int, complex numbers."
   ]
  },
  {
   "cell_type": "code",
   "execution_count": 100,
   "id": "fd23302b",
   "metadata": {},
   "outputs": [],
   "source": [
    "# create array with specific dtype\n",
    "from numpy import int8\n",
    "# method 1\n",
    "my_array22 = np.array([10,22,121,222], np.int32)\n",
    "\n",
    "# method 2\n",
    "my_array23 = np.array([23,22,3,44], dtype=int8)"
   ]
  },
  {
   "cell_type": "code",
   "execution_count": null,
   "id": "12d87d8e",
   "metadata": {},
   "outputs": [
    {
     "name": "stdout",
     "output_type": "stream",
     "text": [
      "int32\n",
      "int8\n"
     ]
    }
   ],
   "source": [
    "print(my_array22.dtype)\n",
    "print(my_array23.dtype)"
   ]
  },
  {
   "cell_type": "code",
   "execution_count": 108,
   "id": "0aa85944",
   "metadata": {},
   "outputs": [
    {
     "data": {
      "text/plain": [
       "48"
      ]
     },
     "execution_count": 108,
     "metadata": {},
     "output_type": "execute_result"
    }
   ],
   "source": [
    "# Check total bytes consumed in memory\n",
    "int_array.nbytes"
   ]
  },
  {
   "cell_type": "code",
   "execution_count": 109,
   "id": "936e8925",
   "metadata": {},
   "outputs": [
    {
     "data": {
      "text/plain": [
       "24"
      ]
     },
     "execution_count": 109,
     "metadata": {},
     "output_type": "execute_result"
    }
   ],
   "source": [
    "# Check total bytes consumed in memory\n",
    "int_array_smaller.nbytes"
   ]
  },
  {
   "cell_type": "markdown",
   "id": "78e549a3",
   "metadata": {},
   "source": [
    "Memory consumption concept clearance is useful for machine learning algorithms."
   ]
  },
  {
   "cell_type": "markdown",
   "id": "38fbb8df",
   "metadata": {},
   "source": [
    "# Multidimensional Arrays"
   ]
  },
  {
   "cell_type": "markdown",
   "id": "b43ab846",
   "metadata": {},
   "source": [
    "1D array is Vector<br>2D array is Matrix<br>3D array is Tensor"
   ]
  },
  {
   "cell_type": "code",
   "execution_count": 111,
   "id": "c96619c0",
   "metadata": {},
   "outputs": [],
   "source": [
    "my_array1_2d = np.array([[1,2,3,4,5],[6,7,8,9,10]])"
   ]
  },
  {
   "cell_type": "code",
   "execution_count": 112,
   "id": "d608e604",
   "metadata": {},
   "outputs": [
    {
     "data": {
      "text/plain": [
       "array([[ 1,  2,  3,  4,  5],\n",
       "       [ 6,  7,  8,  9, 10]])"
      ]
     },
     "execution_count": 112,
     "metadata": {},
     "output_type": "execute_result"
    }
   ],
   "source": [
    "my_array1_2d"
   ]
  },
  {
   "cell_type": "code",
   "execution_count": 114,
   "id": "f7f7d725",
   "metadata": {},
   "outputs": [
    {
     "name": "stdout",
     "output_type": "stream",
     "text": [
      "[[ 1  2  3  4  5]\n",
      " [ 6  7  8  9 10]]\n"
     ]
    }
   ],
   "source": [
    "print(my_array1_2d)"
   ]
  },
  {
   "cell_type": "code",
   "execution_count": 117,
   "id": "3f2234db",
   "metadata": {},
   "outputs": [
    {
     "data": {
      "text/plain": [
       "np.int64(1)"
      ]
     },
     "execution_count": 117,
     "metadata": {},
     "output_type": "execute_result"
    }
   ],
   "source": [
    "# It is 2D array, that's why to access element in 2D array, we need two indices.\n",
    "my_array1_2d[0,0]"
   ]
  },
  {
   "cell_type": "code",
   "execution_count": 116,
   "id": "fdf52275",
   "metadata": {},
   "outputs": [
    {
     "data": {
      "text/plain": [
       "np.int64(3)"
      ]
     },
     "execution_count": 116,
     "metadata": {},
     "output_type": "execute_result"
    }
   ],
   "source": [
    "my_array1_2d[0,2]"
   ]
  },
  {
   "cell_type": "code",
   "execution_count": 121,
   "id": "de381a25",
   "metadata": {},
   "outputs": [
    {
     "data": {
      "text/plain": [
       "dtype('int64')"
      ]
     },
     "execution_count": 121,
     "metadata": {},
     "output_type": "execute_result"
    }
   ],
   "source": [
    "# Let us check data type of my_array1_2d\n",
    "my_array1_2d.dtype"
   ]
  },
  {
   "cell_type": "code",
   "execution_count": 119,
   "id": "f8aa3319",
   "metadata": {},
   "outputs": [
    {
     "name": "stdout",
     "output_type": "stream",
     "text": [
      "int64\n"
     ]
    }
   ],
   "source": [
    "print(my_array1_2d.dtype)"
   ]
  },
  {
   "cell_type": "code",
   "execution_count": 123,
   "id": "15b130ca",
   "metadata": {},
   "outputs": [
    {
     "data": {
      "text/plain": [
       "2"
      ]
     },
     "execution_count": 123,
     "metadata": {},
     "output_type": "execute_result"
    }
   ],
   "source": [
    "# Let us check number of dimensions/\n",
    "my_array1_2d.ndim"
   ]
  },
  {
   "cell_type": "markdown",
   "id": "b03d3209",
   "metadata": {},
   "source": [
    "# Three Dimensional Array"
   ]
  },
  {
   "cell_type": "code",
   "execution_count": 125,
   "id": "bf7979d9",
   "metadata": {},
   "outputs": [],
   "source": [
    "# Array of two 2D array is 3D array.\n",
    "\n",
    "my_array1_3d = np.array([[[1,2,3],[4,5,6]],[[7,8,9],[10,11,12]]])"
   ]
  },
  {
   "cell_type": "code",
   "execution_count": 126,
   "id": "42a70e21",
   "metadata": {},
   "outputs": [
    {
     "name": "stdout",
     "output_type": "stream",
     "text": [
      "[[[ 1  2  3]\n",
      "  [ 4  5  6]]\n",
      "\n",
      " [[ 7  8  9]\n",
      "  [10 11 12]]]\n"
     ]
    }
   ],
   "source": [
    "print(my_array1_3d)"
   ]
  },
  {
   "cell_type": "markdown",
   "id": "cbba82ec",
   "metadata": {},
   "source": [
    "# Create array from python data structures"
   ]
  },
  {
   "cell_type": "code",
   "execution_count": 127,
   "id": "08b43d83",
   "metadata": {},
   "outputs": [
    {
     "data": {
      "text/plain": [
       "[989, 34, 5433, 433]"
      ]
     },
     "execution_count": 127,
     "metadata": {},
     "output_type": "execute_result"
    }
   ],
   "source": [
    "list_abc = [989,34,5433,433]\n",
    "list_abc"
   ]
  },
  {
   "cell_type": "code",
   "execution_count": 134,
   "id": "8c31fc8f",
   "metadata": {},
   "outputs": [
    {
     "name": "stdout",
     "output_type": "stream",
     "text": [
      "[ 989   34 5433  433]\n",
      "int64\n"
     ]
    }
   ],
   "source": [
    "array_abc = np.array(list_abc)\n",
    "print(array_abc)\n",
    "print(array_abc.dtype)"
   ]
  },
  {
   "cell_type": "code",
   "execution_count": 135,
   "id": "8f1ca9f7",
   "metadata": {},
   "outputs": [
    {
     "data": {
      "text/plain": [
       "[1, 1000, 1500, -1.223, -222.38, 1000.6788]"
      ]
     },
     "execution_count": 135,
     "metadata": {},
     "output_type": "execute_result"
    }
   ],
   "source": [
    "list_pqr = [1,1000,1500,-1.223,-222.38,1000.6788]\n",
    "list_pqr"
   ]
  },
  {
   "cell_type": "code",
   "execution_count": 136,
   "id": "338e01ff",
   "metadata": {},
   "outputs": [
    {
     "data": {
      "text/plain": [
       "array([ 1.0000000e+00,  1.0000000e+03,  1.5000000e+03, -1.2230000e+00,\n",
       "       -2.2238000e+02,  1.0006788e+03])"
      ]
     },
     "execution_count": 136,
     "metadata": {},
     "output_type": "execute_result"
    }
   ],
   "source": [
    "array_pqr = np.array(list_pqr)\n",
    "array_pqr"
   ]
  },
  {
   "cell_type": "code",
   "execution_count": 137,
   "id": "353cb2d0",
   "metadata": {},
   "outputs": [
    {
     "data": {
      "text/plain": [
       "dtype('float64')"
      ]
     },
     "execution_count": 137,
     "metadata": {},
     "output_type": "execute_result"
    }
   ],
   "source": [
    "array_pqr.dtype"
   ]
  },
  {
   "cell_type": "markdown",
   "id": "ccf104c0",
   "metadata": {},
   "source": [
    "Here list_pqr is converted into array and array type is converted into float as most general elements in list_pqr are float."
   ]
  },
  {
   "cell_type": "code",
   "execution_count": 138,
   "id": "9be8b071",
   "metadata": {},
   "outputs": [
    {
     "data": {
      "text/plain": [
       "[100, 'Ram', 200, 300, 600]"
      ]
     },
     "execution_count": 138,
     "metadata": {},
     "output_type": "execute_result"
    }
   ],
   "source": [
    "list_xyz = [100, 'Ram', 200, 300, 600]\n",
    "list_xyz"
   ]
  },
  {
   "cell_type": "code",
   "execution_count": 139,
   "id": "d84d8624",
   "metadata": {},
   "outputs": [
    {
     "name": "stdout",
     "output_type": "stream",
     "text": [
      "['100' 'Ram' '200' '300' '600']\n"
     ]
    }
   ],
   "source": [
    "array_xyz = np.array(list_xyz)\n",
    "print(array_xyz)"
   ]
  },
  {
   "cell_type": "code",
   "execution_count": null,
   "id": "d3079faa",
   "metadata": {},
   "outputs": [
    {
     "data": {
      "text/plain": [
       "dtype('<U21')"
      ]
     },
     "execution_count": 140,
     "metadata": {},
     "output_type": "execute_result"
    }
   ],
   "source": [
    "array_xyz"
   ]
  },
  {
   "cell_type": "markdown",
   "id": "e6c48db3",
   "metadata": {},
   "source": [
    "Here dtype is unicode string."
   ]
  },
  {
   "cell_type": "code",
   "execution_count": 149,
   "id": "881339bb",
   "metadata": {},
   "outputs": [],
   "source": [
    "# Create string array\n",
    "my_array24 = np.array(['Ram', 'Shyam'],dtype='S')\n",
    "\n",
    "# Create int array\n",
    "my_array25 = np.array([1,2,3], dtype='i')\n",
    "\n",
    "# Create float array\n",
    "my_array25 = np.array([1.2, 1.3, 4.4, 6,9], dtype='f')"
   ]
  },
  {
   "cell_type": "code",
   "execution_count": 151,
   "id": "76d4ca91",
   "metadata": {},
   "outputs": [],
   "source": [
    "# Tuple is array which is immutable.\n",
    "tuple1 = (12,122,121,121)"
   ]
  },
  {
   "cell_type": "code",
   "execution_count": 154,
   "id": "5db75155",
   "metadata": {},
   "outputs": [
    {
     "data": {
      "text/plain": [
       "array([ 12, 122, 121, 121])"
      ]
     },
     "execution_count": 154,
     "metadata": {},
     "output_type": "execute_result"
    }
   ],
   "source": [
    "array_t1 = np.array(tuple1)\n",
    "array_t1"
   ]
  },
  {
   "cell_type": "code",
   "execution_count": 155,
   "id": "c417182f",
   "metadata": {},
   "outputs": [
    {
     "data": {
      "text/plain": [
       "dtype('int64')"
      ]
     },
     "execution_count": 155,
     "metadata": {},
     "output_type": "execute_result"
    }
   ],
   "source": [
    "array_t1.dtype"
   ]
  },
  {
   "cell_type": "code",
   "execution_count": 156,
   "id": "e72db806",
   "metadata": {},
   "outputs": [],
   "source": [
    "list_dim = [[12,12,11],[11,54,56],[77,76,89],[43,55,54]]"
   ]
  },
  {
   "cell_type": "code",
   "execution_count": 158,
   "id": "79400934",
   "metadata": {},
   "outputs": [
    {
     "data": {
      "text/plain": [
       "array([[12, 12, 11],\n",
       "       [11, 54, 56],\n",
       "       [77, 76, 89],\n",
       "       [43, 55, 54]])"
      ]
     },
     "execution_count": 158,
     "metadata": {},
     "output_type": "execute_result"
    }
   ],
   "source": [
    "array_list_dim = np.array(list_dim)\n",
    "array_list_dim"
   ]
  },
  {
   "cell_type": "code",
   "execution_count": 160,
   "id": "d417d022",
   "metadata": {},
   "outputs": [
    {
     "data": {
      "text/plain": [
       "array([[[ 1,  2,  3],\n",
       "        [ 4,  5,  6]],\n",
       "\n",
       "       [[ 7,  8,  9],\n",
       "        [10, 11, 12]]])"
      ]
     },
     "execution_count": 160,
     "metadata": {},
     "output_type": "execute_result"
    }
   ],
   "source": [
    "list_dim2 = [[[1,2,3],[4,5,6]],[[7,8,9],[10,11,12]]]\n",
    "array_list_dim2 = np.array(list_dim2)\n",
    "array_list_dim2"
   ]
  }
 ],
 "metadata": {
  "kernelspec": {
   "display_name": "myvenv",
   "language": "python",
   "name": "python3"
  },
  "language_info": {
   "codemirror_mode": {
    "name": "ipython",
    "version": 3
   },
   "file_extension": ".py",
   "mimetype": "text/x-python",
   "name": "python",
   "nbconvert_exporter": "python",
   "pygments_lexer": "ipython3",
   "version": "3.13.1"
  }
 },
 "nbformat": 4,
 "nbformat_minor": 5
}
