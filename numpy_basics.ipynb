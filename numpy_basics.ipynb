{
 "cells": [
  {
   "cell_type": "code",
   "execution_count": 3,
   "id": "34402740",
   "metadata": {},
   "outputs": [],
   "source": [
    "import numpy as np"
   ]
  },
  {
   "cell_type": "code",
   "execution_count": null,
   "id": "59b13b72",
   "metadata": {},
   "outputs": [],
   "source": [
    "import pandas as pd"
   ]
  },
  {
   "cell_type": "code",
   "execution_count": 1,
   "id": "07e5540f",
   "metadata": {},
   "outputs": [
    {
     "name": "stdout",
     "output_type": "stream",
     "text": [
      "Hello\n"
     ]
    }
   ],
   "source": [
    "print ('Hello')"
   ]
  },
  {
   "cell_type": "code",
   "execution_count": 4,
   "id": "0f74db28",
   "metadata": {},
   "outputs": [
    {
     "name": "stdout",
     "output_type": "stream",
     "text": [
      "[ 1  2  3  4  5  6  7  8  9 10]\n",
      "[ 200  500 1000]\n"
     ]
    }
   ],
   "source": [
    "myarray1 = np.array([1,2,3,4,5,6,7,8,9,10],np.int8)\n",
    "print(myarray1)\n",
    "myarray2 = np.array([200,500,1000],np.int32)\n",
    "print(myarray2)"
   ]
  },
  {
   "cell_type": "code",
   "execution_count": null,
   "id": "d64beea5",
   "metadata": {},
   "outputs": [],
   "source": [
    "myarray3 = np.array([10,20,11,21,23],np.int16)\n",
    "myarray4 = np.array([123,223,214,233],np.int32)"
   ]
  },
  {
   "cell_type": "code",
   "execution_count": null,
   "id": "03a0c4bb",
   "metadata": {},
   "outputs": [],
   "source": [
    "print(myarray3)"
   ]
  },
  {
   "cell_type": "code",
   "execution_count": null,
   "id": "90778d3f",
   "metadata": {},
   "outputs": [],
   "source": [
    "myarray5 = np.array([900,2322,323],np.int32)\n",
    "myarray6 = np.array([900,343,456],np.int32)"
   ]
  },
  {
   "cell_type": "code",
   "execution_count": null,
   "id": "61993ca2",
   "metadata": {},
   "outputs": [],
   "source": [
    "myarray7 = np.array([[123,454,554]],np.int16)"
   ]
  },
  {
   "cell_type": "code",
   "execution_count": null,
   "id": "b19c7684",
   "metadata": {},
   "outputs": [],
   "source": [
    "print(myarray7)"
   ]
  },
  {
   "cell_type": "code",
   "execution_count": null,
   "id": "e924945b",
   "metadata": {},
   "outputs": [],
   "source": [
    "print(myarray7[0,2])"
   ]
  },
  {
   "cell_type": "code",
   "execution_count": null,
   "id": "982063ad",
   "metadata": {},
   "outputs": [],
   "source": [
    "print(myarray7[0,0])"
   ]
  },
  {
   "cell_type": "code",
   "execution_count": null,
   "id": "cdaa52b2",
   "metadata": {},
   "outputs": [],
   "source": [
    "myarray8 = np.array([[121,232],[432,455]],np.int16)"
   ]
  },
  {
   "cell_type": "code",
   "execution_count": null,
   "id": "f15d9a14",
   "metadata": {},
   "outputs": [],
   "source": [
    "print(myarray8)"
   ]
  },
  {
   "cell_type": "code",
   "execution_count": null,
   "id": "9ded563a",
   "metadata": {},
   "outputs": [],
   "source": [
    "myarray8"
   ]
  },
  {
   "cell_type": "code",
   "execution_count": null,
   "id": "fe4e59f0",
   "metadata": {},
   "outputs": [],
   "source": [
    "print(type(myarray8))"
   ]
  },
  {
   "cell_type": "code",
   "execution_count": null,
   "id": "770c66fa",
   "metadata": {},
   "outputs": [],
   "source": [
    "myarray2[2]"
   ]
  },
  {
   "cell_type": "code",
   "execution_count": null,
   "id": "a912c207",
   "metadata": {},
   "outputs": [],
   "source": [
    "print(myarray2)"
   ]
  },
  {
   "cell_type": "code",
   "execution_count": null,
   "id": "e5913195",
   "metadata": {},
   "outputs": [],
   "source": [
    "myarray3 = np.array([[111,222,333,555]],np.int16)\n",
    "print(myarray3)"
   ]
  },
  {
   "cell_type": "code",
   "execution_count": null,
   "id": "5deeee7a",
   "metadata": {},
   "outputs": [],
   "source": [
    "myarray3[0,1]"
   ]
  },
  {
   "cell_type": "code",
   "execution_count": null,
   "id": "358bdeab",
   "metadata": {},
   "outputs": [],
   "source": [
    "myarray4 = np.array([[900,777,433,455]],np.int32)\n",
    "myarray4\n",
    "myarray4[0,2]"
   ]
  },
  {
   "cell_type": "code",
   "execution_count": null,
   "id": "55744c5e",
   "metadata": {},
   "outputs": [],
   "source": [
    "myarray5 = np.array([[222,121,2332,121]],np.int32)\n",
    "myarray5[0,2]"
   ]
  },
  {
   "cell_type": "code",
   "execution_count": null,
   "id": "69fe557f",
   "metadata": {},
   "outputs": [],
   "source": [
    "myarray8.dtype"
   ]
  },
  {
   "cell_type": "code",
   "execution_count": null,
   "id": "f48e7e48",
   "metadata": {},
   "outputs": [],
   "source": [
    "print(type(myarray8))"
   ]
  },
  {
   "cell_type": "code",
   "execution_count": null,
   "id": "e260d4c6",
   "metadata": {},
   "outputs": [],
   "source": [
    "myarray8.dtype"
   ]
  },
  {
   "cell_type": "code",
   "execution_count": null,
   "id": "618cf95a",
   "metadata": {},
   "outputs": [],
   "source": [
    "myarray8.shape"
   ]
  },
  {
   "cell_type": "code",
   "execution_count": null,
   "id": "510c7107",
   "metadata": {},
   "outputs": [],
   "source": [
    "myarray8.size"
   ]
  },
  {
   "cell_type": "code",
   "execution_count": null,
   "id": "484c7f2b",
   "metadata": {},
   "outputs": [],
   "source": [
    "floatarray1 = np.array([1.2,1.3,1.44],np.float16)"
   ]
  },
  {
   "cell_type": "code",
   "execution_count": null,
   "id": "4f2ff536",
   "metadata": {},
   "outputs": [],
   "source": [
    "floatarray1"
   ]
  },
  {
   "cell_type": "code",
   "execution_count": null,
   "id": "44cdefc1",
   "metadata": {},
   "outputs": [],
   "source": [
    "floatarray1.dtype"
   ]
  },
  {
   "cell_type": "code",
   "execution_count": null,
   "id": "438acd8d",
   "metadata": {},
   "outputs": [],
   "source": [
    "floatarray1.shape"
   ]
  },
  {
   "cell_type": "code",
   "execution_count": null,
   "id": "f982e46f",
   "metadata": {},
   "outputs": [],
   "source": [
    "floatarray1.size"
   ]
  },
  {
   "cell_type": "markdown",
   "id": "75131381",
   "metadata": {},
   "source": [
    "##### Get info about created array"
   ]
  },
  {
   "cell_type": "code",
   "execution_count": null,
   "id": "047194a3",
   "metadata": {},
   "outputs": [],
   "source": [
    "myarray1.shape"
   ]
  },
  {
   "cell_type": "code",
   "execution_count": null,
   "id": "1014e982",
   "metadata": {},
   "outputs": [],
   "source": [
    "myarray3.shape"
   ]
  },
  {
   "cell_type": "code",
   "execution_count": null,
   "id": "130d5275",
   "metadata": {},
   "outputs": [],
   "source": [
    "myarray2.shape"
   ]
  },
  {
   "cell_type": "code",
   "execution_count": null,
   "id": "2d367f87",
   "metadata": {},
   "outputs": [],
   "source": [
    "myarray5.shape"
   ]
  },
  {
   "cell_type": "code",
   "execution_count": null,
   "id": "50902b0c",
   "metadata": {},
   "outputs": [],
   "source": [
    "myarray5.dtype"
   ]
  },
  {
   "cell_type": "code",
   "execution_count": null,
   "id": "5cedb671",
   "metadata": {},
   "outputs": [],
   "source": [
    "myarray2.dtype"
   ]
  },
  {
   "cell_type": "code",
   "execution_count": null,
   "id": "3d77fa08",
   "metadata": {},
   "outputs": [],
   "source": [
    "myarray1.dtype"
   ]
  },
  {
   "cell_type": "code",
   "execution_count": null,
   "id": "5bea1be8",
   "metadata": {},
   "outputs": [],
   "source": [
    "myarray6 = np.array([[1.2,1.44,4.55]],np.float32)\n",
    "myarray6\n",
    "print(myarray6)\n",
    "myarray6.shape\n",
    "myarray6.dtype"
   ]
  },
  {
   "cell_type": "code",
   "execution_count": null,
   "id": "c7caefb5",
   "metadata": {},
   "outputs": [],
   "source": [
    "listarray1 = np.array([[1,2,3],[5,6,7],[8,9,10]])\n",
    "print(listarray1)"
   ]
  },
  {
   "cell_type": "code",
   "execution_count": null,
   "id": "a56f8c60",
   "metadata": {},
   "outputs": [],
   "source": [
    "listarray2 = np.array([[33,44,55],[77,88,99]])\n",
    "print(listarray2)"
   ]
  },
  {
   "cell_type": "code",
   "execution_count": null,
   "id": "6ab843a8",
   "metadata": {},
   "outputs": [],
   "source": [
    "listarray1.dtype"
   ]
  },
  {
   "cell_type": "code",
   "execution_count": null,
   "id": "7eee0820",
   "metadata": {},
   "outputs": [],
   "source": [
    "print(listarray1)\n",
    "listarray1.shape"
   ]
  },
  {
   "cell_type": "code",
   "execution_count": null,
   "id": "a6f8268b",
   "metadata": {},
   "outputs": [],
   "source": [
    "listarray3 = np.array([[100,200,300],[700,800,900]])\n",
    "print(listarray3)"
   ]
  },
  {
   "cell_type": "code",
   "execution_count": null,
   "id": "d40c2971",
   "metadata": {},
   "outputs": [],
   "source": [
    "listarray3.shape"
   ]
  },
  {
   "cell_type": "code",
   "execution_count": null,
   "id": "99f99740",
   "metadata": {},
   "outputs": [],
   "source": [
    "listarray3.dtype"
   ]
  },
  {
   "cell_type": "code",
   "execution_count": null,
   "id": "0363d718",
   "metadata": {},
   "outputs": [],
   "source": [
    "listarray3.size"
   ]
  },
  {
   "cell_type": "code",
   "execution_count": null,
   "id": "71c11f54",
   "metadata": {},
   "outputs": [],
   "source": [
    "listarray1"
   ]
  },
  {
   "cell_type": "markdown",
   "id": "8ca7341d",
   "metadata": {},
   "source": [
    "##### Change element in array"
   ]
  },
  {
   "cell_type": "code",
   "execution_count": null,
   "id": "8cdd498c",
   "metadata": {},
   "outputs": [],
   "source": [
    "listarray1[0,0] =100"
   ]
  },
  {
   "cell_type": "code",
   "execution_count": null,
   "id": "13040458",
   "metadata": {},
   "outputs": [],
   "source": [
    "print(listarray1)"
   ]
  },
  {
   "cell_type": "markdown",
   "id": "94f3a064",
   "metadata": {},
   "source": [
    "##### Creation of array from list"
   ]
  },
  {
   "cell_type": "code",
   "execution_count": null,
   "id": "a4e5b116",
   "metadata": {},
   "outputs": [],
   "source": [
    "listarray4 = np.array([[232,332,322],[322,433,323]])\n",
    "print(listarray4)"
   ]
  },
  {
   "cell_type": "code",
   "execution_count": null,
   "id": "5454cb6f",
   "metadata": {},
   "outputs": [],
   "source": [
    "listarray4"
   ]
  }
 ],
 "metadata": {
  "kernelspec": {
   "display_name": "myvenv",
   "language": "python",
   "name": "python3"
  },
  "language_info": {
   "codemirror_mode": {
    "name": "ipython",
    "version": 3
   },
   "file_extension": ".py",
   "mimetype": "text/x-python",
   "name": "python",
   "nbconvert_exporter": "python",
   "pygments_lexer": "ipython3",
   "version": "3.13.1"
  }
 },
 "nbformat": 4,
 "nbformat_minor": 5
}
